{
 "cells": [
  {
   "cell_type": "code",
   "execution_count": 1,
   "metadata": {},
   "outputs": [
    {
     "name": "stdout",
     "output_type": "stream",
     "text": [
      "[1 2 3 4]\n"
     ]
    }
   ],
   "source": [
    "import numpy as np\n",
    "\n",
    "a = np.array([1,2,3,4])\n",
    "print(a)"
   ]
  },
  {
   "cell_type": "code",
   "execution_count": 5,
   "metadata": {},
   "outputs": [
    {
     "name": "stdout",
     "output_type": "stream",
     "text": [
      "250051.80588834913\n",
      "Vectorized version: 1.9516944885253906ms\n",
      "250051.80588834255\n",
      "For loop:1222.728967666626ms\n"
     ]
    }
   ],
   "source": [
    "import time\n",
    "\n",
    "a = np.random.rand(1000000)\n",
    "b = np.random.rand(1000000)\n",
    "\n",
    "tic = time.time()\n",
    "c = np.dot(a,b)\n",
    "toc = time.time()\n",
    "print(c)\n",
    "print(\"Vectorized version: \" + str(1000*(toc-tic)) + \"ms\")\n",
    "\n",
    "c=0\n",
    "tic = time.time()\n",
    "for i in range(1000000):\n",
    "    c+=a[i]*b[i]\n",
    "toc = time.time()\n",
    "print(c)\n",
    "print(\"For loop:\" + str(1000*(toc-tic))+ \"ms\")"
   ]
  },
  {
   "cell_type": "code",
   "execution_count": 19,
   "metadata": {},
   "outputs": [
    {
     "name": "stdout",
     "output_type": "stream",
     "text": [
      "[[94.91525424  0.          2.83140283 88.42652796]\n",
      " [ 2.03389831 43.51464435 33.46203346 10.40312094]\n",
      " [ 3.05084746 56.48535565 63.70656371  1.17035111]]\n"
     ]
    }
   ],
   "source": [
    "import pandas as pd\n",
    "\n",
    "u = np.zeros((3,4))\n",
    "u[0][0]=56.0\n",
    "u[1][0]=1.2\n",
    "u[2][0]=1.8\n",
    "u[0][1]=0.0\n",
    "u[1][1]=104.0\n",
    "u[2][1]=135\n",
    "u[0][2]=4.4\n",
    "u[1][2]=52\n",
    "u[2][2]=99\n",
    "u[0][3]=68\n",
    "u[1][3]=8\n",
    "u[2][3]=0.9\n",
    "sumcol = np.sum(u,axis=0)\n",
    "ans = u/sumcol*100\n",
    "\n",
    "print(ans)"
   ]
  },
  {
   "cell_type": "code",
   "execution_count": 24,
   "metadata": {},
   "outputs": [
    {
     "name": "stdout",
     "output_type": "stream",
     "text": [
      "[-1.83366328 -0.37316916  1.18186365  1.97059215  0.48108807]\n"
     ]
    }
   ],
   "source": [
    "a = np.random.randn(5)\n",
    "print(a)"
   ]
  },
  {
   "cell_type": "code",
   "execution_count": 22,
   "metadata": {},
   "outputs": [
    {
     "name": "stdout",
     "output_type": "stream",
     "text": [
      "(5,)\n"
     ]
    }
   ],
   "source": [
    "print (a.shape)"
   ]
  },
  {
   "cell_type": "code",
   "execution_count": 26,
   "metadata": {},
   "outputs": [
    {
     "data": {
      "text/plain": [
       "array([[-0.05258688],\n",
       "       [-0.19191959],\n",
       "       [-0.42508566],\n",
       "       [-0.5194138 ],\n",
       "       [ 0.5724532 ]])"
      ]
     },
     "execution_count": 26,
     "metadata": {},
     "output_type": "execute_result"
    }
   ],
   "source": [
    "a = np.random.randn(5,1)\n",
    "a"
   ]
  },
  {
   "cell_type": "code",
   "execution_count": 27,
   "metadata": {},
   "outputs": [
    {
     "name": "stdout",
     "output_type": "stream",
     "text": [
      "[[ 0.00276538  0.01009245  0.02235393  0.02731435 -0.03010353]\n",
      " [ 0.01009245  0.03683313  0.08158227  0.09968568 -0.10986498]\n",
      " [ 0.02235393  0.08158227  0.18069782  0.22079536 -0.24334164]\n",
      " [ 0.02731435  0.09968568  0.22079536  0.26979069 -0.29734009]\n",
      " [-0.03010353 -0.10986498 -0.24334164 -0.29734009  0.32770266]]\n"
     ]
    }
   ],
   "source": [
    "print(a*a.T)"
   ]
  },
  {
   "cell_type": "code",
   "execution_count": null,
   "metadata": {},
   "outputs": [],
   "source": []
  }
 ],
 "metadata": {
  "kernelspec": {
   "display_name": "Python 3",
   "language": "python",
   "name": "python3"
  },
  "language_info": {
   "codemirror_mode": {
    "name": "ipython",
    "version": 3
   },
   "file_extension": ".py",
   "mimetype": "text/x-python",
   "name": "python",
   "nbconvert_exporter": "python",
   "pygments_lexer": "ipython3",
   "version": "3.7.6"
  }
 },
 "nbformat": 4,
 "nbformat_minor": 4
}
